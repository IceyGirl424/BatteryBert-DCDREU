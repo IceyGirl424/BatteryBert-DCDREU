{
 "cells": [
  {
   "cell_type": "code",
   "execution_count": null,
   "id": "d42196f2",
   "metadata": {
    "scrolled": true
   },
   "outputs": [],
   "source": [
    "from transformers import BertTokenizer, BertModel\n",
    "from bertviz import model_view, head_view\n",
    "model_name_or_path = r'batterydata/batteryscibert-cased'\n",
    "tokenizer = BertTokenizer.from_pretrained(model_name_or_path)\n",
    "model = BertModel.from_pretrained(model_name_or_path, output_attentions=True)\n",
    "inputs = tokenizer.encode(\"Performance characteristics of intercalation materials such as lithium cobalt oxide (LCO) are contrasted with that of conversion materials.\", return_tensors='pt')\n",
    "outputs = model(inputs)\n",
    "attention = outputs[-1]  # Output includes attention weights when output_attentions=True\n",
    "tokens = tokenizer.convert_ids_to_tokens(inputs[0]) "
   ]
  },
  {
   "cell_type": "code",
   "execution_count": null,
   "id": "14400a67",
   "metadata": {
    "pycharm": {
     "name": "#%%\n"
    }
   },
   "outputs": [],
   "source": [
    "head_view(attention, tokens)"
   ]
  },
  {
   "cell_type": "code",
   "execution_count": null,
   "id": "a251944b",
   "metadata": {},
   "outputs": [],
   "source": [
    "def show_model_view(model, tokenizer, sentence_a, sentence_b=None, hide_delimiter_attn=False, display_mode=\"dark\"):\n",
    "    inputs = tokenizer.encode_plus(sentence_a, sentence_b, return_tensors='pt', add_special_tokens=True)\n",
    "    input_ids = inputs['input_ids']\n",
    "    if sentence_b:\n",
    "        token_type_ids = inputs['token_type_ids']\n",
    "        attention = model(input_ids, token_type_ids=token_type_ids)[-1]\n",
    "        sentence_b_start = token_type_ids[0].tolist().index(1)\n",
    "    else:\n",
    "        attention = model(input_ids)[-1]\n",
    "        sentence_b_start = None\n",
    "    input_id_list = input_ids[0].tolist() # Batch index 0\n",
    "    tokens = tokenizer.convert_ids_to_tokens(input_id_list)  \n",
    "    if hide_delimiter_attn:\n",
    "        for i, t in enumerate(tokens):\n",
    "            if t in (\"[SEP]\", \"[CLS]\"):\n",
    "                for layer_attn in attention:\n",
    "                    layer_attn[0, :, i, :] = 0\n",
    "                    layer_attn[0, :, :, i] = 0\n",
    "    model_view(attention, tokens, sentence_b_start, display_mode=display_mode)"
   ]
  },
  {
   "cell_type": "code",
   "execution_count": null,
   "id": "84d1ed13",
   "metadata": {
    "scrolled": false
   },
   "outputs": [],
   "source": [
    "model_name_or_path = r'batterydata/batteryonlybert-uncased-squad-v1'\n",
    "tokenizer = BertTokenizer.from_pretrained(model_name_or_path)\n",
    "model = BertModel.from_pretrained(model_name_or_path, output_attentions=True)\n",
    "sentence_a = \"The cathode of this Li-ion battery is LiFePO4.\"\n",
    "show_model_view(model, tokenizer, sentence_a, sentence_b=None, hide_delimiter_attn=False, display_mode=\"dark\")"
   ]
  }
 ],
 "metadata": {
  "kernelspec": {
   "display_name": "Python 3 (ipykernel)",
   "language": "python",
   "name": "python3"
  },
  "language_info": {
   "codemirror_mode": {
    "name": "ipython",
    "version": 3
   },
   "file_extension": ".py",
   "mimetype": "text/x-python",
   "name": "python",
   "nbconvert_exporter": "python",
   "pygments_lexer": "ipython3",
   "version": "3.8.12"
  }
 },
 "nbformat": 4,
 "nbformat_minor": 5
}
